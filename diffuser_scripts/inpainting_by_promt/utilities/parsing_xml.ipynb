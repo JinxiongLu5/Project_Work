{
 "cells": [
  {
   "cell_type": "code",
   "execution_count": 58,
   "metadata": {},
   "outputs": [],
   "source": [
    "import xml.etree.ElementTree as ET\n",
    "tree = ET.parse('data/empty_annotation.xml')\n",
    "root = tree.getroot()\n",
    "obj = ET.parse('data/empty_object.xml')\n",
    "obj_root = obj.getroot()"
   ]
  },
  {
   "cell_type": "code",
   "execution_count": 59,
   "metadata": {},
   "outputs": [],
   "source": [
    "root[1].text = \"filename.png\"\n",
    "size = root[4]\n",
    "# size[0].text = width\n",
    "# size[1].text = height\n",
    "# size[2].text = depth\n",
    "\n",
    "# append label\n",
    "# obj_root[0].text = class_name\n",
    "# obj_root[4][1].text = ymin\n",
    "# obj_root[4][3].text = ymax\n",
    "# obj_root[4][0].text = xmin\n",
    "# obj_root[4][2].text = xmax\n",
    "# root.append(obj_root)\n"
   ]
  },
  {
   "cell_type": "code",
   "execution_count": 60,
   "metadata": {},
   "outputs": [],
   "source": [
    "tree.write('output.xml')"
   ]
  }
 ],
 "metadata": {
  "kernelspec": {
   "display_name": "Python 3",
   "language": "python",
   "name": "python3"
  },
  "language_info": {
   "codemirror_mode": {
    "name": "ipython",
    "version": 3
   },
   "file_extension": ".py",
   "mimetype": "text/x-python",
   "name": "python",
   "nbconvert_exporter": "python",
   "pygments_lexer": "ipython3",
   "version": "3.8.10"
  },
  "orig_nbformat": 4,
  "vscode": {
   "interpreter": {
    "hash": "31f2aee4e71d21fbe5cf8b01ff0e069b9275f58929596ceb00d14d90e3e16cd6"
   }
  }
 },
 "nbformat": 4,
 "nbformat_minor": 2
}
